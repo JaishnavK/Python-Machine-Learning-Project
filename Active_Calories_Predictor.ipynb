{
 "cells": [
  {
   "cell_type": "code",
   "execution_count": 122,
   "id": "94f4f949",
   "metadata": {
    "scrolled": true
   },
   "outputs": [
    {
     "data": {
      "text/plain": [
       "0.7085242853849933"
      ]
     },
     "execution_count": 122,
     "metadata": {},
     "output_type": "execute_result"
    }
   ],
   "source": [
    "#importing neccessary packages\n",
    "import pandas as pd\n",
    "import numpy as np\n",
    "from sklearn.preprocessing import OneHotEncoder\n",
    "from sklearn.compose import ColumnTransformer\n",
    "from sklearn.model_selection import train_test_split\n",
    "from sklearn.ensemble import RandomForestRegressor\n",
    "from sklearn.metrics import mean_absolute_error\n",
    "from sklearn.metrics import accuracy_score\n",
    "\n",
    "#turning my fitness data into data frame\n",
    "data = pd.read_csv(\"MyFit/MyFit_Data.csv\")\n",
    "\n",
    "#replacing null values with averages\n",
    "data[\"Active_Energy_(kcal)\"].fillna(data[\"Active_Energy_(kcal)\"].mean(), inplace=True)\n",
    "data[\"Heart_Rate_[Min]_(bpm)\"].fillna(data[\"Heart_Rate_[Min]_(bpm)\"].mean(), inplace=True)\n",
    "data[\"Heart_Rate_[Max]_(bpm)\"].fillna(data[\"Heart_Rate_[Max]_(bpm)\"].mean(), inplace=True)\n",
    "data[\"Heart_Rate_[Avg]_(bpm)\"].fillna(data[\"Heart_Rate_[Avg]_(bpm)\"].mean(), inplace=True)\n",
    "\n",
    "#splitting into x and y\n",
    "x = data.drop(\"Active_Energy_(kcal)\", axis = 1)\n",
    "y = data[\"Active_Energy_(kcal)\"]\n",
    "\n",
    "#turning categorical data to numerical data\n",
    "categorical = [\"Date\", \"Days_of_the_Week\"]\n",
    "one_hot = OneHotEncoder()\n",
    "#transform categorical columns using OneHotEncoder and leave the rest as is\n",
    "CT = ColumnTransformer([(\"one_hot\",\n",
    "                          one_hot,\n",
    "                          categorical)],\n",
    "                          remainder=\"passthrough\")\n",
    "#fit transformer to x\n",
    "xtrans = CT.fit_transform(x)\n",
    "\n",
    "#setup random seed\n",
    "#np.random.seed(42)\n",
    "\n",
    "#training and testing\n",
    "x_train, x_test, y_train, y_test = train_test_split(xtrans,y,test_size=0.2)\n",
    "\n",
    "#creating machine learning model\n",
    "model = RandomForestRegressor()\n",
    "model.fit(x_train, y_train)\n",
    "model.score(x_test, y_test)"
   ]
  },
  {
   "cell_type": "code",
   "execution_count": 120,
   "id": "07366be6",
   "metadata": {},
   "outputs": [
    {
     "data": {
      "text/plain": [
       "array([394.09452845, 276.98157816, 585.7031    , 551.4308    ,\n",
       "       650.448     , 394.04102845, 493.3198    , 530.8901    ,\n",
       "       279.7846    , 410.25006   , 409.5187734 , 567.1661    ,\n",
       "       339.9708434 ,  50.7329    , 359.5209868 , 411.1746    ,\n",
       "       322.79975   , 590.77453019, 369.1451    , 468.7499    ,\n",
       "       234.22473019, 669.9898    , 432.5887    , 750.876     ,\n",
       "       772.3342    ])"
      ]
     },
     "execution_count": 120,
     "metadata": {},
     "output_type": "execute_result"
    }
   ],
   "source": [
    "#predicting active energy (calories burned)\n",
    "ypredicts = model.predict(x_test)\n",
    "ypredicts[:25]"
   ]
  },
  {
   "cell_type": "code",
   "execution_count": 118,
   "id": "67c2d99d",
   "metadata": {},
   "outputs": [
    {
     "data": {
      "text/plain": [
       "array([ 46.26, 230.82, 263.62, 882.86, 301.98, 454.81, 498.3 , 255.15,\n",
       "       527.67, 315.53, 204.72, 694.33, 609.61, 338.93, 583.38, 233.17,\n",
       "       300.51, 405.82, 410.8 , 519.1 , 275.5 , 324.06, 714.35, 583.22,\n",
       "       280.2 ])"
      ]
     },
     "execution_count": 118,
     "metadata": {},
     "output_type": "execute_result"
    }
   ],
   "source": [
    "#comparing with test data\n",
    "np.array(y_test[:25])"
   ]
  },
  {
   "cell_type": "code",
   "execution_count": null,
   "id": "6c4ea62b",
   "metadata": {},
   "outputs": [],
   "source": []
  }
 ],
 "metadata": {
  "kernelspec": {
   "display_name": "Python 3 (ipykernel)",
   "language": "python",
   "name": "python3"
  },
  "language_info": {
   "codemirror_mode": {
    "name": "ipython",
    "version": 3
   },
   "file_extension": ".py",
   "mimetype": "text/x-python",
   "name": "python",
   "nbconvert_exporter": "python",
   "pygments_lexer": "ipython3",
   "version": "3.11.5"
  }
 },
 "nbformat": 4,
 "nbformat_minor": 5
}
